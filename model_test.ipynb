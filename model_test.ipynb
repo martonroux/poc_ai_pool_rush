{
 "cells": [
  {
   "cell_type": "code",
   "execution_count": 22,
   "metadata": {},
   "outputs": [],
   "source": [
    "import pandas as pd\n",
    "import torch\n",
    "import torch.nn.functional as F\n",
    "import numpy as np\n",
    "from data_loader import get_data"
   ]
  },
  {
   "cell_type": "code",
   "execution_count": 23,
   "metadata": {},
   "outputs": [],
   "source": [
    "class model(torch.nn.Module):\n",
    "    def __init__(self):\n",
    "        super(model, self).__init__()\n",
    "        self.fc1 = torch.nn.Linear(3000, 256)\n",
    "        self.fc2 = torch.nn.Linear(256, 128)\n",
    "        self.fc5 = torch.nn.LazyLinear(128)\n",
    "        self.fc3 = torch.nn.Linear(128, 64)\n",
    "        self.fc4 = torch.nn.Linear(64, 1)\n",
    "\n",
    "    def forward(self, x):\n",
    "        x = (self.fc1(x))\n",
    "        x = (self.fc2(x))\n",
    "        x = (self.fc5(x))\n",
    "        x = (self.fc5(x))\n",
    "        x = (self.fc5(x))\n",
    "        x = (self.fc3(x))\n",
    "        x = (self.fc4(x))\n",
    "        return torch.sigmoid(x)"
   ]
  },
  {
   "cell_type": "code",
   "execution_count": 24,
   "metadata": {},
   "outputs": [
    {
     "name": "stderr",
     "output_type": "stream",
     "text": [
      "C:\\Users\\marto\\anaconda3_2\\lib\\site-packages\\torch\\nn\\modules\\lazy.py:180: UserWarning: Lazy modules are a new feature under heavy development so changes to the API or functionality can happen at any moment.\n",
      "  warnings.warn('Lazy modules are a new feature under heavy development '\n"
     ]
    }
   ],
   "source": [
    "Model = model()"
   ]
  },
  {
   "cell_type": "code",
   "execution_count": 25,
   "metadata": {},
   "outputs": [],
   "source": [
    "criterion = torch.nn.MSELoss()\n",
    "optimizer = torch.optim.ASGD(Model.parameters(), lr=0.0001)"
   ]
  },
  {
   "cell_type": "code",
   "execution_count": 26,
   "metadata": {},
   "outputs": [],
   "source": [
    "train_load, test_load = get_data(\"data_2/emails.csv\", 16)"
   ]
  },
  {
   "cell_type": "code",
   "execution_count": 27,
   "metadata": {},
   "outputs": [
    {
     "name": "stdout",
     "output_type": "stream",
     "text": [
      "Epoch: 0, Loss: 0.23377422484997157, Accuracy: 0.0028448352673465334\n",
      "Epoch: 1, Loss: 0.19051819367147263, Accuracy: 0.002183876138607861\n",
      "Epoch: 2, Loss: 0.12103545890975398, Accuracy: 0.0024141139803907064\n",
      "Epoch: 3, Loss: 0.070028301448569, Accuracy: 0.002670465044418111\n",
      "Epoch: 4, Loss: 0.06470634576154083, Accuracy: 0.0026554419123897234\n",
      "Epoch: 5, Loss: 0.036451578189951865, Accuracy: 0.0029108312600044216\n",
      "Epoch: 6, Loss: 0.03844641254963416, Accuracy: 0.0026705235137361124\n",
      "Epoch: 7, Loss: 0.017309905382228256, Accuracy: 0.0029118404118404118\n",
      "Epoch: 8, Loss: 0.01635352142838947, Accuracy: 0.0029117812674629433\n",
      "Epoch: 9, Loss: 0.014336891282979198, Accuracy: 0.0029118404118404118\n"
     ]
    }
   ],
   "source": [
    "for epoch in range(10):\n",
    "    accuracy = 0\n",
    "    ll = []\n",
    "    for batch in train_load:\n",
    "        criterion.zero_grad()\n",
    "        x_batch, y_batch = batch\n",
    "        \n",
    "        y_pred = Model.forward(x_batch.to(torch.float32))\n",
    "\n",
    "        y_pred_rounded = torch.round(y_pred)\n",
    "        accuracy += (y_pred_rounded == y_batch.reshape(len(y_pred), 1)).sum().item()\n",
    "        accuracy = accuracy / 16\n",
    "        \n",
    "        loss = criterion(y_pred, y_batch.float().reshape(len(y_pred), 1))\n",
    "        ll += [loss.item()]\n",
    "        loss.backward()\n",
    "        \n",
    "        optimizer.step()\n",
    "    accuracy = accuracy / len(train_load)\n",
    "    if epoch % 1 == 0:\n",
    "        print(f\"Epoch: {epoch}, Loss: {np.mean(ll)}, Accuracy: {accuracy}\")"
   ]
  },
  {
   "cell_type": "code",
   "execution_count": 29,
   "outputs": [
    {
     "name": "stdout",
     "output_type": "stream",
     "text": [
      "Accuracy: 90%\n"
     ]
    }
   ],
   "source": [
    "nb_win = 0\n",
    "nb_all = 0\n",
    "\n",
    "for test_batch in test_load:\n",
    "    x_batch, y_batch = test_batch\n",
    "\n",
    "    y_pred = Model.forward(x_batch.to(torch.float32))\n",
    "\n",
    "    nb_all += 1\n",
    "\n",
    "    if y_pred == y_batch:\n",
    "        nb_win += 1\n",
    "\n",
    "print(\"Accuracy: {}%\".format(round((nb_win / nb_all) * 100), 2))"
   ],
   "metadata": {
    "collapsed": false
   }
  },
  {
   "cell_type": "markdown",
   "metadata": {},
   "source": []
  }
 ],
 "metadata": {
  "kernelspec": {
   "display_name": "Python 3",
   "language": "python",
   "name": "python3"
  },
  "language_info": {
   "codemirror_mode": {
    "name": "ipython",
    "version": 3
   },
   "file_extension": ".py",
   "mimetype": "text/x-python",
   "name": "python",
   "nbconvert_exporter": "python",
   "pygments_lexer": "ipython3",
   "version": "3.10.10"
  },
  "orig_nbformat": 4,
  "vscode": {
   "interpreter": {
    "hash": "a0a10dc84cbb074ab2182bc20f4ad1c0cb9e3c94be3a621f096774260fc667dd"
   }
  }
 },
 "nbformat": 4,
 "nbformat_minor": 2
}
