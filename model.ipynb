{
 "cells": [
  {
   "cell_type": "code",
   "execution_count": 9,
   "metadata": {},
   "outputs": [],
   "source": [
    "from numpy import *\n",
    "import torch\n",
    "import numpy as np\n",
    "from data_loader import get_data\n"
   ]
  },
  {
   "cell_type": "code",
   "execution_count": null,
   "metadata": {},
   "outputs": [],
   "source": []
  },
  {
   "cell_type": "code",
   "execution_count": null,
   "metadata": {},
   "outputs": [],
   "source": []
  },
  {
   "cell_type": "code",
   "execution_count": 10,
   "metadata": {},
   "outputs": [],
   "source": [
    "class model(torch.nn.Module):\n",
    "    def __init__(self):\n",
    "        super(model, self).__init__()\n",
    "        self.linear = torch.nn.Linear(3000, 256)\n",
    "        self.linear2 = torch.nn.Linear(256, 128)\n",
    "        self.linear3 = torch.nn.Linear(128, 64)\n",
    "        self.linear4 = torch.nn.Linear(64, 1)\n",
    "\n",
    "    def forward(self, x_train):\n",
    "        x = self.linear(x_train)\n",
    "        x = self.linear2(x)\n",
    "        x = self.linear3(x)\n",
    "        x = self.linear4(x)\n",
    "        return torch.sigmoid(x)\n",
    "    \n",
    "        "
   ]
  },
  {
   "cell_type": "code",
   "execution_count": 11,
   "metadata": {},
   "outputs": [],
   "source": [
    "Model = model()"
   ]
  },
  {
   "cell_type": "code",
   "execution_count": 12,
   "metadata": {},
   "outputs": [],
   "source": [
    "criterion = torch.nn.BCELoss()\n",
    "optimizer = torch.optim.SGD(Model.parameters(), lr=0.01)"
   ]
  },
  {
   "cell_type": "code",
   "execution_count": 13,
   "metadata": {},
   "outputs": [],
   "source": [
    "train_load, test_load = get_data(\"data_2/emails.csv\", 32)"
   ]
  },
  {
   "cell_type": "code",
   "execution_count": 14,
   "metadata": {},
   "outputs": [
    {
     "name": "stdout",
     "output_type": "stream",
     "text": [
      "Epoch: 0, Loss: 1.445611985733446, Accuracy: 0.0\n"
     ]
    }
   ],
   "source": [
    "for epoch in range(200):\n",
    "    accuracy = 0\n",
    "    ll = []\n",
    "    for batch in train_load:\n",
    "        criterion.zero_grad()\n",
    "        x_batch, y_batch = batch\n",
    "        \n",
    "        y_pred = Model.forward(x_batch.to(torch.float32))\n",
    "        \n",
    "        # accuracy += (y_pred == y_batch)\n",
    "        \n",
    "        loss = criterion(y_pred, y_batch.float().reshape(len(y_pred), 1))\n",
    "        ll += [loss.item()]\n",
    "        loss.backward()\n",
    "        \n",
    "        optimizer.step()\n",
    "    accuracy = accuracy / len(train_load)\n",
    "    if epoch % 2 == 0:\n",
    "        print(f\"Epoch: {epoch}, Loss: {mean(ll)}, Accuracy: {accuracy}\")\n",
    "        \n",
    "\n",
    "        "
   ]
  },
  {
   "cell_type": "markdown",
   "metadata": {},
   "source": []
  }
 ],
 "metadata": {
  "kernelspec": {
   "display_name": "Python 3",
   "language": "python",
   "name": "python3"
  },
  "language_info": {
   "codemirror_mode": {
    "name": "ipython",
    "version": 3
   },
   "file_extension": ".py",
   "mimetype": "text/x-python",
   "name": "python",
   "nbconvert_exporter": "python",
   "pygments_lexer": "ipython3",
   "version": "3.10.10"
  },
  "orig_nbformat": 4,
  "vscode": {
   "interpreter": {
    "hash": "a0a10dc84cbb074ab2182bc20f4ad1c0cb9e3c94be3a621f096774260fc667dd"
   }
  }
 },
 "nbformat": 4,
 "nbformat_minor": 2
}
